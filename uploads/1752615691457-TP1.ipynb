{
  "nbformat": 4,
  "nbformat_minor": 0,
  "metadata": {
    "colab": {
      "provenance": []
    },
    "kernelspec": {
      "name": "python3",
      "display_name": "Python 3"
    },
    "language_info": {
      "name": "python"
    }
  },
  "cells": [
    {
      "cell_type": "markdown",
      "source": [
        "1. Écrivez un script qui permet de créer un vecteur nul (NumPy array) de taille 10 et\n",
        "mettre à jour la sixième valeur à 3."
      ],
      "metadata": {
        "id": "S6Njq6OmpLAS"
      }
    },
    {
      "cell_type": "code",
      "source": [
        "import numpy as np\n",
        "vector = np.zeros(10)\n",
        "vector[5] = 3\n",
        "print(vector)\n"
      ],
      "metadata": {
        "colab": {
          "base_uri": "https://localhost:8080/"
        },
        "id": "rnuhP3TtnXZP",
        "outputId": "a3df0b42-b59e-4c03-bfdd-f0847b1cd1f7"
      },
      "execution_count": 2,
      "outputs": [
        {
          "output_type": "stream",
          "name": "stdout",
          "text": [
            "[0. 0. 0. 0. 0. 3. 0. 0. 0. 0.]\n"
          ]
        }
      ]
    },
    {
      "cell_type": "markdown",
      "source": [
        "2. Écrivez un script qui permet de créer un tableau (NumPy array) avec des valeurs\n",
        "impaires comprises entre 12 et 38."
      ],
      "metadata": {
        "id": "Es_6BQ1xp25H"
      }
    },
    {
      "cell_type": "code",
      "source": [
        "imp_numbers = np.arange(13, 39, 2)\n",
        "print(imp_numbers)"
      ],
      "metadata": {
        "colab": {
          "base_uri": "https://localhost:8080/"
        },
        "id": "tQ1E1Xy_onAZ",
        "outputId": "9a39aebe-6728-49db-abe4-8366a28e12b3"
      },
      "execution_count": 3,
      "outputs": [
        {
          "output_type": "stream",
          "name": "stdout",
          "text": [
            "[13 15 17 19 21 23 25 27 29 31 33 35 37]\n"
          ]
        }
      ]
    },
    {
      "cell_type": "markdown",
      "source": [
        "3. Écrivez un script qui renvoie les valeurs communes entre deux tableaux NumPy."
      ],
      "metadata": {
        "id": "Y45Np8QsqGIX"
      }
    },
    {
      "cell_type": "code",
      "source": [
        "array1 = np.array([1, 2, 3, 4, 5])\n",
        "array2 = np.array([3, 4, 5, 6, 7])\n",
        "common_values = np.intersect1d(array1, array2)\n",
        "print(common_values)"
      ],
      "metadata": {
        "colab": {
          "base_uri": "https://localhost:8080/"
        },
        "id": "epqVnSL9riOU",
        "outputId": "75010fa5-22bc-4794-cf47-370158f674ce"
      },
      "execution_count": 4,
      "outputs": [
        {
          "output_type": "stream",
          "name": "stdout",
          "text": [
            "[3 4 5]\n"
          ]
        }
      ]
    },
    {
      "cell_type": "markdown",
      "source": [
        "4. Écrivez un script qui récupère les éléments uniques d'un tableau NumPy."
      ],
      "metadata": {
        "id": "70B0K5FdsEog"
      }
    },
    {
      "cell_type": "code",
      "source": [
        "array = np.array([1, 2, 2, 3, 4, 4, 5])\n",
        "unique_elements = np.unique(array)\n",
        "print(unique_elements)"
      ],
      "metadata": {
        "colab": {
          "base_uri": "https://localhost:8080/"
        },
        "id": "yMwffpshrvrR",
        "outputId": "356c91a4-b060-4cbf-f577-2e82c38aff03"
      },
      "execution_count": 5,
      "outputs": [
        {
          "output_type": "stream",
          "name": "stdout",
          "text": [
            "[1 2 3 4 5]\n"
          ]
        }
      ]
    },
    {
      "cell_type": "markdown",
      "source": [
        "5. Écrivez un script qui renvoie la transposé d'une matrice (sans utiliser l'attribut T d'un\n",
        "tableau NumPy)."
      ],
      "metadata": {
        "id": "93sykxH2skAH"
      }
    },
    {
      "cell_type": "code",
      "source": [
        "matrix = np.array([[1, 2, 3], [4, 5, 6]])\n",
        "transposed_matrix = np.transpose(matrix)\n",
        "print(transposed_matrix)"
      ],
      "metadata": {
        "colab": {
          "base_uri": "https://localhost:8080/"
        },
        "id": "GtPsab3usjBm",
        "outputId": "2032e0c3-0979-48c4-9ba2-f4e431aea3c1"
      },
      "execution_count": 6,
      "outputs": [
        {
          "output_type": "stream",
          "name": "stdout",
          "text": [
            "[[1 4]\n",
            " [2 5]\n",
            " [3 6]]\n"
          ]
        }
      ]
    },
    {
      "cell_type": "markdown",
      "source": [
        "6. Écrivez un script qui reforme une matrice en matrice carrée si c'est possible (utiliser la\n",
        "méthode reshape)."
      ],
      "metadata": {
        "id": "zNCvFk_eszbb"
      }
    },
    {
      "cell_type": "code",
      "source": [
        "matrix = np.arange(16)\n",
        "if int(np.sqrt(matrix.size))**2 == matrix.size:\n",
        "    square_matrix = matrix.reshape((int(np.sqrt(matrix.size)), int(np.sqrt(matrix.size))))\n",
        "    print(square_matrix)\n",
        "else:\n",
        "    print(\"Impossible de former une matrice carrée\")"
      ],
      "metadata": {
        "colab": {
          "base_uri": "https://localhost:8080/"
        },
        "id": "WtUHCU4asmGT",
        "outputId": "3a3c3589-b9cd-44e8-cbe9-ae0ad60ca4bf"
      },
      "execution_count": 8,
      "outputs": [
        {
          "output_type": "stream",
          "name": "stdout",
          "text": [
            "[[ 0  1  2  3]\n",
            " [ 4  5  6  7]\n",
            " [ 8  9 10 11]\n",
            " [12 13 14 15]]\n"
          ]
        }
      ]
    },
    {
      "cell_type": "markdown",
      "source": [
        "7. Écrivez un script qui retourne la somme de chaque colonne d’un tableau a deux\n",
        "dimensions (utiliser la méthode sum() avec le paramètre axis)."
      ],
      "metadata": {
        "id": "DZBeNPbWuwt1"
      }
    },
    {
      "cell_type": "code",
      "source": [
        "matrix_2d = np.array([[1, 2, 3], [4, 5, 6]])\n",
        "column_sums = np.sum(matrix_2d, axis=0)\n",
        "print(column_sums)"
      ],
      "metadata": {
        "colab": {
          "base_uri": "https://localhost:8080/"
        },
        "id": "whlK23NXuzky",
        "outputId": "e39a81e0-8b1e-410d-967e-bee2734b5d18"
      },
      "execution_count": 9,
      "outputs": [
        {
          "output_type": "stream",
          "name": "stdout",
          "text": [
            "[5 7 9]\n"
          ]
        }
      ]
    },
    {
      "cell_type": "markdown",
      "source": [
        "8. Écrivez un script qui prend comme argument un tableau T et qui retourne un\n",
        "dictionnaire qui contient les éléments de ce tableau (comme clés du dictionnaire) et le\n",
        "nombre de répétitions de chacun de ces éléments dans le tableau T. (utiliser la fonction\n",
        "unique())"
      ],
      "metadata": {
        "id": "oFlxGN_YwgQU"
      }
    },
    {
      "cell_type": "code",
      "source": [
        "T = np.array([1, 2, 2, 3, 3, 3, 4, 4, 4, 4])\n",
        "unique_elements, counts = np.unique(T, return_counts=True)\n",
        "element_counts = dict(zip(unique_elements, counts))\n",
        "print(element_counts)"
      ],
      "metadata": {
        "colab": {
          "base_uri": "https://localhost:8080/"
        },
        "id": "dtQC_yuUs2Au",
        "outputId": "0117255d-56e6-4de8-fcff-0e85ef0633ce"
      },
      "execution_count": 10,
      "outputs": [
        {
          "output_type": "stream",
          "name": "stdout",
          "text": [
            "{1: 1, 2: 2, 3: 3, 4: 4}\n"
          ]
        }
      ]
    },
    {
      "cell_type": "markdown",
      "source": [
        "9. Écrivez un script qui transfère cette matrice de taille 4x4 vers un tableau V à une\n",
        "dimension de 16 entiers"
      ],
      "metadata": {
        "id": "wdo9Xm9xyZ4t"
      }
    },
    {
      "cell_type": "code",
      "source": [
        "matrix = np.array([[1, 2, 3, 4],\n",
        "                   [5, 6, 7, 8],\n",
        "                   [9, 10, 11, 12],\n",
        "                   [13, 14, 15, 16]])\n",
        "\n",
        "V = matrix.flatten()\n",
        "print(V)"
      ],
      "metadata": {
        "colab": {
          "base_uri": "https://localhost:8080/"
        },
        "id": "Vw0_09G3yhqC",
        "outputId": "88d37c62-a3ff-43fc-cce9-3e4f19527226"
      },
      "execution_count": 11,
      "outputs": [
        {
          "output_type": "stream",
          "name": "stdout",
          "text": [
            "[ 1  2  3  4  5  6  7  8  9 10 11 12 13 14 15 16]\n"
          ]
        }
      ]
    },
    {
      "cell_type": "markdown",
      "source": [
        "10. Écrivez un script qui met à zéro les éléments de la diagonale principale d’une matrice\n",
        "donnée."
      ],
      "metadata": {
        "id": "0j2up8ajzJVt"
      }
    },
    {
      "cell_type": "code",
      "source": [
        "matrix = np.array([[1, 2, 3, 4],\n",
        "                   [5, 6, 7, 8],\n",
        "                   [9, 10, 11, 12],\n",
        "                   [13, 14, 15, 16]])\n",
        "np.fill_diagonal(matrix, 0)\n",
        "print(matrix)"
      ],
      "metadata": {
        "colab": {
          "base_uri": "https://localhost:8080/"
        },
        "id": "H-THIJJuy_G5",
        "outputId": "dac608a8-4ad3-40be-f26e-dd6ab0e7052c"
      },
      "execution_count": 12,
      "outputs": [
        {
          "output_type": "stream",
          "name": "stdout",
          "text": [
            "[[ 0  2  3  4]\n",
            " [ 5  0  7  8]\n",
            " [ 9 10  0 12]\n",
            " [13 14 15  0]]\n"
          ]
        }
      ]
    },
    {
      "cell_type": "markdown",
      "source": [
        "11. Écrivez un script qui permet de calculer le produit de deux matrices A et B"
      ],
      "metadata": {
        "id": "_sZTYGey0lcx"
      }
    },
    {
      "cell_type": "code",
      "source": [
        "A = np.array([[1, 2],\n",
        "              [3, 4]])\n",
        "B = np.array([[5, 6],\n",
        "              [7, 8]])\n",
        "C = np.dot(A, B)\n",
        "print(\"Produit A x B:\\n\", C)"
      ],
      "metadata": {
        "colab": {
          "base_uri": "https://localhost:8080/"
        },
        "id": "xbyeq6OWzyKN",
        "outputId": "188a64bf-8186-488f-ebf9-38d6c484dcec"
      },
      "execution_count": 14,
      "outputs": [
        {
          "output_type": "stream",
          "name": "stdout",
          "text": [
            "Produit A x B:\n",
            " [[19 22]\n",
            " [43 50]]\n"
          ]
        }
      ]
    },
    {
      "cell_type": "markdown",
      "source": [
        "Exercice 2:"
      ],
      "metadata": {
        "id": "tl-dWmYA95U7"
      }
    },
    {
      "cell_type": "markdown",
      "source": [
        "1. Écrivez un script matplotlib qui affiche la courbe de la fonction sinus :"
      ],
      "metadata": {
        "id": "Gma5elQT-Efl"
      }
    },
    {
      "cell_type": "code",
      "source": [
        "import numpy as np\n",
        "import matplotlib.pyplot as plt\n",
        "\n",
        "x = np.linspace(0, 2 * np.pi, 100)\n",
        "y = np.sin(x)\n",
        "plt.plot(x, y, label=\"sin(x)\", color=\"b\")\n",
        "plt.xlabel(\"x\")\n",
        "plt.ylabel(\"sin(x)\")\n",
        "plt.title(\"Courbe de la fonction Sinus\")\n",
        "plt.legend()\n",
        "plt.show()"
      ],
      "metadata": {
        "colab": {
          "base_uri": "https://localhost:8080/",
          "height": 472
        },
        "id": "AYgFBkjG-HVl",
        "outputId": "72c94f81-de86-4d5a-e89b-7d160aa563e6"
      },
      "execution_count": 15,
      "outputs": [
        {
          "output_type": "display_data",
          "data": {
            "text/plain": [
              "<Figure size 640x480 with 1 Axes>"
            ],
            "image/png": "[encoded data removed]"
          },
          "metadata": {}
        }
      ]
    },
    {
      "cell_type": "markdown",
      "source": [
        "2. Écrivez un script matplotlib qui affiche la figure suivante :"
      ],
      "metadata": {
        "id": "z6wdF7MN_ohg"
      }
    },
    {
      "cell_type": "code",
      "source": [
        "import numpy as np\n",
        "import matplotlib.pyplot as plt\n",
        "\n",
        "np.random.seed(42)\n",
        "x_blue = np.random.uniform(0, 20, 150)\n",
        "y_blue = np.random.uniform(0, 18, 150)\n",
        "\n",
        "x_red = np.random.uniform(10, 14, 40)\n",
        "y_red = np.random.uniform(10, 14, 40)\n",
        "\n",
        "x_green = np.random.uniform(0, 5, 40)\n",
        "y_green = np.random.uniform(0, 5, 40)\n",
        "\n",
        "plt.figure(figsize=(8, 6))\n",
        "\n",
        "plt.scatter(x_blue, y_blue, color='blue', label=\"Groupe 1 (Bleu)\")\n",
        "plt.scatter(x_red, y_red, color='red', label=\"Groupe 2 (Rouge)\")\n",
        "plt.scatter(x_green, y_green, color='green', label=\"Groupe 3 (Vert)\")\n",
        "\n",
        "plt.xlabel(\"x\")\n",
        "plt.ylabel(\"y\")\n",
        "plt.title(\"des points aleatoires\")\n",
        "\n",
        "plt.legend()\n",
        "\n",
        "plt.show()\n"
      ],
      "metadata": {
        "colab": {
          "base_uri": "https://localhost:8080/",
          "height": 564
        },
        "id": "MqosEHyB-dWa",
        "outputId": "3f4a3d77-9eb9-452d-b3cc-a1c1041b24b2"
      },
      "execution_count": 16,
      "outputs": [
        {
          "output_type": "display_data",
          "data": {
            "text/plain": [
              "<Figure size 800x600 with 1 Axes>"
            ],
            "image/png": "[encoded data removed]"
          },
          "metadata": {}
        }
      ]
    },
    {
      "cell_type": "markdown",
      "source": [
        "Exercice 3:"
      ],
      "metadata": {
        "id": "TZaVQy_qCqwY"
      }
    },
    {
      "cell_type": "markdown",
      "source": [
        "1. Écrivez un script qui permet de charger les données à partir du fichier ‘titanic.xls’"
      ],
      "metadata": {
        "id": "9X6h9icgCwcM"
      }
    },
    {
      "cell_type": "code",
      "source": [
        "import pandas as pd\n",
        "\n",
        "df = pd.read_excel(\"/content/sample_data/titanic.xls\")\n",
        "print(df.info())"
      ],
      "metadata": {
        "colab": {
          "base_uri": "https://localhost:8080/"
        },
        "id": "Nu9dgENRDhFu",
        "outputId": "10d695d4-01a1-4c99-9829-d6c7497547d5"
      },
      "execution_count": 21,
      "outputs": [
        {
          "output_type": "stream",
          "name": "stdout",
          "text": [
            "<class 'pandas.core.frame.DataFrame'>\n",
            "RangeIndex: 1309 entries, 0 to 1308\n",
            "Data columns (total 14 columns):\n",
            " #   Column     Non-Null Count  Dtype  \n",
            "---  ------     --------------  -----  \n",
            " 0   pclass     1309 non-null   int64  \n",
            " 1   survived   1309 non-null   int64  \n",
            " 2   name       1309 non-null   object \n",
            " 3   sex        1309 non-null   object \n",
            " 4   age        1046 non-null   float64\n",
            " 5   sibsp      1309 non-null   int64  \n",
            " 6   parch      1309 non-null   int64  \n",
            " 7   ticket     1309 non-null   object \n",
            " 8   fare       1308 non-null   float64\n",
            " 9   cabin      295 non-null    object \n",
            " 10  embarked   1307 non-null   object \n",
            " 11  boat       486 non-null    object \n",
            " 12  body       121 non-null    float64\n",
            " 13  home.dest  745 non-null    object \n",
            "dtypes: float64(3), int64(4), object(7)\n",
            "memory usage: 143.3+ KB\n",
            "None\n"
          ]
        }
      ]
    },
    {
      "cell_type": "markdown",
      "source": [
        "2. Afficher les cinq premières lignes\n"
      ],
      "metadata": {
        "id": "3AexpuElKPZc"
      }
    },
    {
      "cell_type": "code",
      "source": [
        "print(df.head())"
      ],
      "metadata": {
        "colab": {
          "base_uri": "https://localhost:8080/"
        },
        "id": "dRHmuVoIE0GH",
        "outputId": "0730bcdf-493a-44c9-9fdd-a883ed94423e"
      },
      "execution_count": 22,
      "outputs": [
        {
          "output_type": "stream",
          "name": "stdout",
          "text": [
            "   pclass  survived                                             name     sex  \\\n",
            "0       1         1                    Allen, Miss. Elisabeth Walton  female   \n",
            "1       1         1                   Allison, Master. Hudson Trevor    male   \n",
            "2       1         0                     Allison, Miss. Helen Loraine  female   \n",
            "3       1         0             Allison, Mr. Hudson Joshua Creighton    male   \n",
            "4       1         0  Allison, Mrs. Hudson J C (Bessie Waldo Daniels)  female   \n",
            "\n",
            "       age  sibsp  parch  ticket      fare    cabin embarked boat   body  \\\n",
            "0  29.0000      0      0   24160  211.3375       B5        S    2    NaN   \n",
            "1   0.9167      1      2  113781  151.5500  C22 C26        S   11    NaN   \n",
            "2   2.0000      1      2  113781  151.5500  C22 C26        S  NaN    NaN   \n",
            "3  30.0000      1      2  113781  151.5500  C22 C26        S  NaN  135.0   \n",
            "4  25.0000      1      2  113781  151.5500  C22 C26        S  NaN    NaN   \n",
            "\n",
            "                         home.dest  \n",
            "0                     St Louis, MO  \n",
            "1  Montreal, PQ / Chesterville, ON  \n",
            "2  Montreal, PQ / Chesterville, ON  \n",
            "3  Montreal, PQ / Chesterville, ON  \n",
            "4  Montreal, PQ / Chesterville, ON  \n"
          ]
        }
      ]
    },
    {
      "cell_type": "markdown",
      "source": [
        "3. Afficher les 5 dernières lignes"
      ],
      "metadata": {
        "id": "rW6bLrBbKhJN"
      }
    },
    {
      "cell_type": "code",
      "source": [
        "print(df.tail())"
      ],
      "metadata": {
        "colab": {
          "base_uri": "https://localhost:8080/"
        },
        "id": "KQXQkpiAKaec",
        "outputId": "2db18c20-a4ad-4766-f163-883557539982"
      },
      "execution_count": 23,
      "outputs": [
        {
          "output_type": "stream",
          "name": "stdout",
          "text": [
            "      pclass  survived                       name     sex   age  sibsp  parch  \\\n",
            "1304       3         0       Zabour, Miss. Hileni  female  14.5      1      0   \n",
            "1305       3         0      Zabour, Miss. Thamine  female   NaN      1      0   \n",
            "1306       3         0  Zakarian, Mr. Mapriededer    male  26.5      0      0   \n",
            "1307       3         0        Zakarian, Mr. Ortin    male  27.0      0      0   \n",
            "1308       3         0         Zimmerman, Mr. Leo    male  29.0      0      0   \n",
            "\n",
            "      ticket     fare cabin embarked boat   body home.dest  \n",
            "1304    2665  14.4542   NaN        C  NaN  328.0       NaN  \n",
            "1305    2665  14.4542   NaN        C  NaN    NaN       NaN  \n",
            "1306    2656   7.2250   NaN        C  NaN  304.0       NaN  \n",
            "1307    2670   7.2250   NaN        C  NaN    NaN       NaN  \n",
            "1308  315082   7.8750   NaN        S  NaN    NaN       NaN  \n"
          ]
        }
      ]
    },
    {
      "cell_type": "markdown",
      "source": [
        "4. Afficher les lignes de 6 à 10"
      ],
      "metadata": {
        "id": "vn09-TfqKy0r"
      }
    },
    {
      "cell_type": "code",
      "source": [
        "print(df.iloc[5:10])"
      ],
      "metadata": {
        "colab": {
          "base_uri": "https://localhost:8080/"
        },
        "id": "0zqLou7BKrhS",
        "outputId": "637d60ba-be05-491d-f11f-8747ebfa20ef"
      },
      "execution_count": 24,
      "outputs": [
        {
          "output_type": "stream",
          "name": "stdout",
          "text": [
            "   pclass  survived                                           name     sex  \\\n",
            "5       1         1                            Anderson, Mr. Harry    male   \n",
            "6       1         1              Andrews, Miss. Kornelia Theodosia  female   \n",
            "7       1         0                         Andrews, Mr. Thomas Jr    male   \n",
            "8       1         1  Appleton, Mrs. Edward Dale (Charlotte Lamson)  female   \n",
            "9       1         0                        Artagaveytia, Mr. Ramon    male   \n",
            "\n",
            "    age  sibsp  parch    ticket     fare cabin embarked boat  body  \\\n",
            "5  48.0      0      0     19952  26.5500   E12        S    3   NaN   \n",
            "6  63.0      1      0     13502  77.9583    D7        S   10   NaN   \n",
            "7  39.0      0      0    112050   0.0000   A36        S  NaN   NaN   \n",
            "8  53.0      2      0     11769  51.4792  C101        S    D   NaN   \n",
            "9  71.0      0      0  PC 17609  49.5042   NaN        C  NaN  22.0   \n",
            "\n",
            "             home.dest  \n",
            "5         New York, NY  \n",
            "6           Hudson, NY  \n",
            "7          Belfast, NI  \n",
            "8  Bayside, Queens, NY  \n",
            "9  Montevideo, Uruguay  \n"
          ]
        }
      ]
    },
    {
      "cell_type": "markdown",
      "source": [
        "5. Afficher la valeur de la colonne ‘name’ de la ligne 5"
      ],
      "metadata": {
        "id": "4Ok28PtDK9ce"
      }
    },
    {
      "cell_type": "code",
      "source": [
        "print(df.loc[4, \"name\"])"
      ],
      "metadata": {
        "colab": {
          "base_uri": "https://localhost:8080/"
        },
        "id": "VQaV-UoGK4AZ",
        "outputId": "f8c07cd9-b84c-4312-df6c-e6199b9dc333"
      },
      "execution_count": 25,
      "outputs": [
        {
          "output_type": "stream",
          "name": "stdout",
          "text": [
            "Allison, Mrs. Hudson J C (Bessie Waldo Daniels)\n"
          ]
        }
      ]
    },
    {
      "cell_type": "markdown",
      "source": [
        "6. Afficher les passagers ayants plus de 30 ans"
      ],
      "metadata": {
        "id": "xWj4y02lLIsC"
      }
    },
    {
      "cell_type": "code",
      "source": [
        "print(df[df[\"age\"] > 30])"
      ],
      "metadata": {
        "colab": {
          "base_uri": "https://localhost:8080/"
        },
        "id": "HXWvCI73LEKM",
        "outputId": "f3c06e75-1001-485e-a275-c1830a11fdfc"
      },
      "execution_count": 26,
      "outputs": [
        {
          "output_type": "stream",
          "name": "stdout",
          "text": [
            "      pclass  survived                                             name  \\\n",
            "5          1         1                              Anderson, Mr. Harry   \n",
            "6          1         1                Andrews, Miss. Kornelia Theodosia   \n",
            "7          1         0                           Andrews, Mr. Thomas Jr   \n",
            "8          1         1    Appleton, Mrs. Edward Dale (Charlotte Lamson)   \n",
            "9          1         0                          Artagaveytia, Mr. Ramon   \n",
            "...      ...       ...                                              ...   \n",
            "1286       3         1  Whabee, Mrs. George Joseph (Shawneene Abi-Saab)   \n",
            "1287       3         0                 Widegren, Mr. Carl/Charles Peter   \n",
            "1290       3         1                 Wilkes, Mrs. James (Ellen Needs)   \n",
            "1298       3         0                        Wittevrongel, Mr. Camille   \n",
            "1301       3         0                             Youseff, Mr. Gerious   \n",
            "\n",
            "         sex   age  sibsp  parch    ticket     fare cabin embarked boat  \\\n",
            "5       male  48.0      0      0     19952  26.5500   E12        S    3   \n",
            "6     female  63.0      1      0     13502  77.9583    D7        S   10   \n",
            "7       male  39.0      0      0    112050   0.0000   A36        S  NaN   \n",
            "8     female  53.0      2      0     11769  51.4792  C101        S    D   \n",
            "9       male  71.0      0      0  PC 17609  49.5042   NaN        C  NaN   \n",
            "...      ...   ...    ...    ...       ...      ...   ...      ...  ...   \n",
            "1286  female  38.0      0      0      2688   7.2292   NaN        C    C   \n",
            "1287    male  51.0      0      0    347064   7.7500   NaN        S  NaN   \n",
            "1290  female  47.0      1      0    363272   7.0000   NaN        S  NaN   \n",
            "1298    male  36.0      0      0    345771   9.5000   NaN        S  NaN   \n",
            "1301    male  45.5      0      0      2628   7.2250   NaN        C  NaN   \n",
            "\n",
            "       body            home.dest  \n",
            "5       NaN         New York, NY  \n",
            "6       NaN           Hudson, NY  \n",
            "7       NaN          Belfast, NI  \n",
            "8       NaN  Bayside, Queens, NY  \n",
            "9      22.0  Montevideo, Uruguay  \n",
            "...     ...                  ...  \n",
            "1286    NaN                  NaN  \n",
            "1287    NaN                  NaN  \n",
            "1290    NaN                  NaN  \n",
            "1298    NaN                  NaN  \n",
            "1301  312.0                  NaN  \n",
            "\n",
            "[437 rows x 14 columns]\n"
          ]
        }
      ]
    },
    {
      "cell_type": "markdown",
      "source": [
        "7. Afficher les passagers de sexes féminins âgés de moins de 25 ans"
      ],
      "metadata": {
        "id": "uIGNQf2GLUa4"
      }
    },
    {
      "cell_type": "code",
      "source": [
        "print(df[(df[\"sex\"] == \"female\") & (df[\"age\"] < 25)])"
      ],
      "metadata": {
        "colab": {
          "base_uri": "https://localhost:8080/"
        },
        "id": "WZeguFl4LPWO",
        "outputId": "ea4938da-8242-4ea0-82c9-67f8af5b0489"
      },
      "execution_count": 27,
      "outputs": [
        {
          "output_type": "stream",
          "name": "stdout",
          "text": [
            "      pclass  survived                                               name  \\\n",
            "2          1         0                       Allison, Miss. Helen Loraine   \n",
            "11         1         1  Astor, Mrs. John Jacob (Madeleine Talmadge Force)   \n",
            "12         1         1                      Aubart, Mme. Leontine Pauline   \n",
            "27         1         1            Bishop, Mrs. Dickinson H (Helen Walton)   \n",
            "36         1         1                        Bowerman, Miss. Elsie Edith   \n",
            "...      ...       ...                                                ...   \n",
            "1265       3         0                          Van Impe, Miss. Catharina   \n",
            "1273       3         0                 Vander Planke, Miss. Augusta Maria   \n",
            "1279       3         0               Vestrom, Miss. Hulda Amanda Adolfina   \n",
            "1300       3         1            Yasbeck, Mrs. Antoni (Selini Alexander)   \n",
            "1304       3         0                               Zabour, Miss. Hileni   \n",
            "\n",
            "         sex   age  sibsp  parch    ticket      fare    cabin embarked boat  \\\n",
            "2     female   2.0      1      2    113781  151.5500  C22 C26        S  NaN   \n",
            "11    female  18.0      1      0  PC 17757  227.5250  C62 C64        C    4   \n",
            "12    female  24.0      0      0  PC 17477   69.3000      B35        C    9   \n",
            "27    female  19.0      1      0     11967   91.0792      B49        C    7   \n",
            "36    female  22.0      0      1    113505   55.0000      E33        S    6   \n",
            "...      ...   ...    ...    ...       ...       ...      ...      ...  ...   \n",
            "1265  female  10.0      0      2    345773   24.1500      NaN        S  NaN   \n",
            "1273  female  18.0      2      0    345764   18.0000      NaN        S  NaN   \n",
            "1279  female  14.0      0      0    350406    7.8542      NaN        S  NaN   \n",
            "1300  female  15.0      1      0      2659   14.4542      NaN        C  NaN   \n",
            "1304  female  14.5      1      0      2665   14.4542      NaN        C  NaN   \n",
            "\n",
            "       body                         home.dest  \n",
            "2       NaN   Montreal, PQ / Chesterville, ON  \n",
            "11      NaN                      New York, NY  \n",
            "12      NaN                     Paris, France  \n",
            "27      NaN                      Dowagiac, MI  \n",
            "36      NaN  St Leonards-on-Sea, England Ohio  \n",
            "...     ...                               ...  \n",
            "1265    NaN                               NaN  \n",
            "1273    NaN                               NaN  \n",
            "1279    NaN                               NaN  \n",
            "1300    NaN                               NaN  \n",
            "1304  328.0                               NaN  \n",
            "\n",
            "[172 rows x 14 columns]\n"
          ]
        }
      ]
    },
    {
      "cell_type": "markdown",
      "source": [
        "8. Afficher le nombre de passagers de sexe masculins"
      ],
      "metadata": {
        "id": "wHzcwGveLbWh"
      }
    },
    {
      "cell_type": "code",
      "source": [
        "print(df[df[\"sex\"] == \"male\"].shape[0])"
      ],
      "metadata": {
        "colab": {
          "base_uri": "https://localhost:8080/"
        },
        "id": "OHoppeprLZxR",
        "outputId": "b0eb6426-72a5-4c73-e092-121365c09b7a"
      },
      "execution_count": 28,
      "outputs": [
        {
          "output_type": "stream",
          "name": "stdout",
          "text": [
            "843\n"
          ]
        }
      ]
    },
    {
      "cell_type": "markdown",
      "source": [
        "9. Afficher le nombre de passagers ayants survécus"
      ],
      "metadata": {
        "id": "Sgzs2KfxLpcQ"
      }
    },
    {
      "cell_type": "code",
      "source": [
        "print(df[df[\"survived\"] == 1].shape[0])"
      ],
      "metadata": {
        "colab": {
          "base_uri": "https://localhost:8080/"
        },
        "id": "MS53CncpLkA8",
        "outputId": "5142595f-1f34-48c4-ff96-76ee12238763"
      },
      "execution_count": 29,
      "outputs": [
        {
          "output_type": "stream",
          "name": "stdout",
          "text": [
            "500\n"
          ]
        }
      ]
    },
    {
      "cell_type": "markdown",
      "source": [
        "10. Écrivez un script Matplotlib qui affiche le nombre de passagers par sexe dans un\n",
        "graphe de type bar."
      ],
      "metadata": {
        "id": "pAgdSUyMLyAb"
      }
    },
    {
      "cell_type": "code",
      "source": [
        "import matplotlib.pyplot as plt\n",
        "df[\"sex\"].value_counts().plot(kind=\"bar\", color=[\"blue\", \"pink\"])\n",
        "plt.title(\"Nombre de passagers par sexe\")\n",
        "plt.xlabel(\"Sexe\")\n",
        "plt.ylabel(\"Nombre de passagers\")\n",
        "plt.xticks(rotation=0)\n",
        "plt.show()"
      ],
      "metadata": {
        "colab": {
          "base_uri": "https://localhost:8080/",
          "height": 472
        },
        "id": "d-kF83abLuhv",
        "outputId": "365d13e3-24d6-431e-f6a9-b5087cd363f5"
      },
      "execution_count": 30,
      "outputs": [
        {
          "output_type": "display_data",
          "data": {
            "text/plain": [
              "<Figure size 640x480 with 1 Axes>"
            ],
            "image/png": "[encoded data removed]"
          },
          "metadata": {}
        }
      ]
    },
    {
      "cell_type": "markdown",
      "source": [
        "11. Écrivez un script Matplotlib qui affiche le nombre de passagers décédés et survécus\n",
        "dans un graphe de type bar."
      ],
      "metadata": {
        "id": "UXE-jmZoL8BD"
      }
    },
    {
      "cell_type": "code",
      "source": [
        "df[\"survived\"].value_counts().plot(kind=\"bar\", color=[\"red\", \"green\"])\n",
        "plt.title(\"Nombre de passagers décédés et survivants\")\n",
        "plt.xlabel(\"Statut\")\n",
        "plt.ylabel(\"Nombre de passagers\")\n",
        "plt.xticks(ticks=[0, 1], labels=[\"Décédés\", \"Survivants\"])\n",
        "plt.show()"
      ],
      "metadata": {
        "colab": {
          "base_uri": "https://localhost:8080/",
          "height": 532
        },
        "id": "4YT1MbLhL6T4",
        "outputId": "83ec17f5-cc2e-44d2-c68a-807fec8c970f"
      },
      "execution_count": 31,
      "outputs": [
        {
          "output_type": "display_data",
          "data": {
            "text/plain": [
              "<Figure size 640x480 with 1 Axes>"
            ],
            "image/png": "[encoded data removed]"
          },
          "metadata": {}
        }
      ]
    },
    {
      "cell_type": "markdown",
      "source": [
        "12. Écrivez un script Matplotlib qui affiche le nombre de passagers par tranche d’âge\n",
        "(moins de 25 ans, entre 25 et 49 ans, entre 50 et 74 ans, entre 75 et plus) un graphe de\n",
        "type bar."
      ],
      "metadata": {
        "id": "AINi-GTHMHk2"
      }
    },
    {
      "cell_type": "code",
      "source": [
        "import matplotlib.pyplot as plt\n",
        "import pandas as pd\n",
        "\n",
        "df = pd.read_excel(\"/content/sample_data/titanic.xls\")\n",
        "age_bins = [0, 24, 49, 74, 100]\n",
        "age_labels = [\"<25 ans\", \"25-49 ans\", \"50-74 ans\", \"75+ ans\"]\n",
        "df[\"age_group\"] = pd.cut(df[\"age\"], bins=age_bins, labels=age_labels, right=False)\n",
        "\n",
        "df[\"age_group\"].value_counts().sort_index().plot(kind=\"bar\", color=\"purple\")\n",
        "plt.title(\"Nombre de passagers par tranche d'âge\")\n",
        "plt.xlabel(\"Tranche d'âge\")\n",
        "plt.ylabel(\"Nombre de passagers\")\n",
        "plt.show()"
      ],
      "metadata": {
        "colab": {
          "base_uri": "https://localhost:8080/",
          "height": 528
        },
        "id": "YFZ2dTleMCZV",
        "outputId": "87755f0b-05a6-46e8-dddd-3723e35c744e"
      },
      "execution_count": 2,
      "outputs": [
        {
          "output_type": "display_data",
          "data": {
            "text/plain": [
              "<Figure size 640x480 with 1 Axes>"
            ],
            "image/png": "[encoded data removed]"
          },
          "metadata": {}
        }
      ]
    },
    {
      "cell_type": "markdown",
      "source": [
        "13. Écrivez un script Matplotlib qui affiche le nombre de passagers par type\n",
        "d’embarquement dans un graphe de type bar."
      ],
      "metadata": {
        "id": "UVthb6fkSgFy"
      }
    },
    {
      "cell_type": "code",
      "source": [
        "df[\"embarked\"].value_counts().plot(kind=\"bar\", color=\"orange\")\n",
        "plt.title(\"Nombre de passagers par type d'embarquement\")\n",
        "plt.xlabel(\"Port d'embarquement\")\n",
        "plt.ylabel(\"Nombre de passagers\")\n",
        "plt.show()"
      ],
      "metadata": {
        "colab": {
          "base_uri": "https://localhost:8080/",
          "height": 469
        },
        "id": "GGWFGvPLMLie",
        "outputId": "529178c8-3f2a-4179-cee4-ba66edba3fb9"
      },
      "execution_count": 3,
      "outputs": [
        {
          "output_type": "display_data",
          "data": {
            "text/plain": [
              "<Figure size 640x480 with 1 Axes>"
            ],
            "image/png": "[encoded data removed]"
          },
          "metadata": {}
        }
      ]
    },
    {
      "cell_type": "markdown",
      "source": [
        "14. Écrivez un script qui permet de charger les données à partir du fichier ‘titanic.xls’"
      ],
      "metadata": {
        "id": "SFfOgeiMSpgl"
      }
    },
    {
      "cell_type": "markdown",
      "source": [
        "**Cette question est la même que la première question**"
      ],
      "metadata": {
        "id": "vKT0exIkS_qc"
      }
    },
    {
      "cell_type": "code",
      "source": [
        "df = pd.read_excel(\"/content/sample_data/titanic.xls\")\n",
        "print(df.info())"
      ],
      "metadata": {
        "colab": {
          "base_uri": "https://localhost:8080/"
        },
        "id": "6clqqubPU_pi",
        "outputId": "c5d703c3-71fd-4b80-921e-968420831e91"
      },
      "execution_count": 9,
      "outputs": [
        {
          "output_type": "stream",
          "name": "stdout",
          "text": [
            "<class 'pandas.core.frame.DataFrame'>\n",
            "RangeIndex: 1309 entries, 0 to 1308\n",
            "Data columns (total 14 columns):\n",
            " #   Column     Non-Null Count  Dtype  \n",
            "---  ------     --------------  -----  \n",
            " 0   pclass     1309 non-null   int64  \n",
            " 1   survived   1309 non-null   int64  \n",
            " 2   name       1309 non-null   object \n",
            " 3   sex        1309 non-null   object \n",
            " 4   age        1046 non-null   float64\n",
            " 5   sibsp      1309 non-null   int64  \n",
            " 6   parch      1309 non-null   int64  \n",
            " 7   ticket     1309 non-null   object \n",
            " 8   fare       1308 non-null   float64\n",
            " 9   cabin      295 non-null    object \n",
            " 10  embarked   1307 non-null   object \n",
            " 11  boat       486 non-null    object \n",
            " 12  body       121 non-null    float64\n",
            " 13  home.dest  745 non-null    object \n",
            "dtypes: float64(3), int64(4), object(7)\n",
            "memory usage: 143.3+ KB\n",
            "None\n"
          ]
        }
      ]
    },
    {
      "cell_type": "markdown",
      "source": [
        "15. Nettoyez le jeu de données avec pandas. Soit avec la suppression des linges avec des\n",
        "valeurs manquantes soit avec la correction de ces données."
      ],
      "metadata": {
        "id": "DMohzHX4TVHv"
      }
    },
    {
      "cell_type": "code",
      "source": [
        "df_cleaned = df.dropna()"
      ],
      "metadata": {
        "id": "dCxVrbjSSmwo"
      },
      "execution_count": 4,
      "outputs": []
    },
    {
      "cell_type": "markdown",
      "source": [
        "16. Sauvegardez les données propres dans un nouveau fichier."
      ],
      "metadata": {
        "id": "Bf29GWvgT0-N"
      }
    },
    {
      "cell_type": "code",
      "source": [
        "df_cleaned.to_excel(\"titanic_cleaned.xlsx\", index=False)\n",
        "\n",
        "print(\"Les données nettoyées ont été enregistrées dans 'titanic_cleaned.xlsx'.\")"
      ],
      "metadata": {
        "colab": {
          "base_uri": "https://localhost:8080/"
        },
        "id": "OrNUyZj7Tk0g",
        "outputId": "8e77038f-832b-4af8-f304-7bd415568020"
      },
      "execution_count": 7,
      "outputs": [
        {
          "output_type": "stream",
          "name": "stdout",
          "text": [
            "Les données nettoyées ont été enregistrées dans 'titanic_cleaned.xlsx'.\n"
          ]
        }
      ]
    },
    {
      "cell_type": "code",
      "source": [],
      "metadata": {
        "id": "H3tnLr-IT8eQ"
      },
      "execution_count": null,
      "outputs": []
    }
  ]
}